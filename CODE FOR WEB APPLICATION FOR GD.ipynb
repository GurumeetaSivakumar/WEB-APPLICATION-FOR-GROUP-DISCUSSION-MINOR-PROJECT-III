{
 "cells": [
  {
   "cell_type": "code",
   "execution_count": 1,
   "id": "e3fd2838",
   "metadata": {},
   "outputs": [
    {
     "name": "stdout",
     "output_type": "stream",
     "text": [
      "Requirement already satisfied: language_tool_python in c:\\users\\sugumar\\anaconda3\\lib\\site-packages (2.7.1)Note: you may need to restart the kernel to use updated packages.\n",
      "\n",
      "Requirement already satisfied: tqdm in c:\\users\\sugumar\\anaconda3\\lib\\site-packages (from language_tool_python) (4.64.1)\n",
      "Requirement already satisfied: requests in c:\\users\\sugumar\\anaconda3\\lib\\site-packages (from language_tool_python) (2.28.1)\n",
      "Requirement already satisfied: charset-normalizer<3,>=2 in c:\\users\\sugumar\\anaconda3\\lib\\site-packages (from requests->language_tool_python) (2.0.4)\n",
      "Requirement already satisfied: certifi>=2017.4.17 in c:\\users\\sugumar\\anaconda3\\lib\\site-packages (from requests->language_tool_python) (2022.9.14)\n",
      "Requirement already satisfied: urllib3<1.27,>=1.21.1 in c:\\users\\sugumar\\anaconda3\\lib\\site-packages (from requests->language_tool_python) (1.26.11)\n",
      "Requirement already satisfied: idna<4,>=2.5 in c:\\users\\sugumar\\anaconda3\\lib\\site-packages (from requests->language_tool_python) (3.3)\n",
      "Requirement already satisfied: colorama in c:\\users\\sugumar\\anaconda3\\lib\\site-packages (from tqdm->language_tool_python) (0.4.5)\n"
     ]
    }
   ],
   "source": [
    "pip install language_tool_python"
   ]
  },
  {
   "cell_type": "code",
   "execution_count": 2,
   "id": "2fa48841",
   "metadata": {},
   "outputs": [
    {
     "name": "stdout",
     "output_type": "stream",
     "text": [
      "Requirement already satisfied: pyaudio in c:\\users\\sugumar\\anaconda3\\lib\\site-packages (0.2.13)\n",
      "Note: you may need to restart the kernel to use updated packages.\n"
     ]
    }
   ],
   "source": [
    "pip install pyaudio"
   ]
  },
  {
   "cell_type": "code",
   "execution_count": 3,
   "id": "88007f55",
   "metadata": {},
   "outputs": [
    {
     "name": "stdout",
     "output_type": "stream",
     "text": [
      "Note: you may need to restart the kernel to use updated packages.\n"
     ]
    },
    {
     "name": "stderr",
     "output_type": "stream",
     "text": [
      "ERROR: Could not find a version that satisfies the requirement tkinter (from versions: none)\n",
      "ERROR: No matching distribution found for tkinter\n"
     ]
    }
   ],
   "source": [
    "pip install tkinter"
   ]
  },
  {
   "cell_type": "code",
   "execution_count": 1,
   "id": "5db2f3a8",
   "metadata": {},
   "outputs": [
    {
     "name": "stdout",
     "output_type": "stream",
     "text": [
      "Listening...\n"
     ]
    }
   ],
   "source": [
    "import tkinter as tk\n",
    "from tkinter import scrolledtext\n",
    "import speech_recognition as sr\n",
    "from language_tool_python import LanguageTool\n",
    "\n",
    "def start_listening():\n",
    "    try:\n",
    "        with sr.Microphone() as source:\n",
    "            recognizer.adjust_for_ambient_noise(source)\n",
    "            print(\"Listening...\")\n",
    "            audio = recognizer.listen(source)\n",
    "            text = recognizer.recognize_google(audio)\n",
    "            text_area.insert(tk.END, text + \" \")\n",
    "            corrected_text = check_grammar(text)\n",
    "            if corrected_text:\n",
    "                text_area.insert(tk.END, \"Corrected Text: \" + corrected_text + \" \")\n",
    "    except sr.UnknownValueError:\n",
    "        text_area.insert(tk.END, \"Sorry, could not understand audio. \")\n",
    "    except sr.RequestError as e:\n",
    "        text_area.insert(tk.END, f\"Error with the service; {e}. \")\n",
    "\n",
    "def check_grammar(text):\n",
    "    tool = LanguageTool('en-US')\n",
    "    matches = tool.check(text)\n",
    "    corrected_text = tool.correct(text)\n",
    "    return corrected_text\n",
    "\n",
    "def clear_text():\n",
    "    text_area.delete('1.0', tk.END)\n",
    "\n",
    "# Create the main window\n",
    "window = tk.Tk()\n",
    "window.title(\"Speech-to-Text and Grammar Checker\")\n",
    "\n",
    "# Create widgets\n",
    "text_area = scrolledtext.ScrolledText(window, wrap=tk.WORD, width=40, height=10)\n",
    "text_area.pack()\n",
    "text_area.config(state=tk.NORMAL)\n",
    "\n",
    "start_button = tk.Button(window, text=\"Start Listening\", command=start_listening)\n",
    "start_button.pack()\n",
    "\n",
    "clear_button = tk.Button(window, text=\"Clear Text\", command=clear_text)\n",
    "clear_button.pack()\n",
    "\n",
    "recognizer = sr.Recognizer()\n",
    "\n",
    "window.mainloop()\n"
   ]
  },
  {
   "cell_type": "code",
   "execution_count": null,
   "id": "58088c1d",
   "metadata": {},
   "outputs": [],
   "source": []
  }
 ],
 "metadata": {
  "kernelspec": {
   "display_name": "Python 3 (ipykernel)",
   "language": "python",
   "name": "python3"
  },
  "language_info": {
   "codemirror_mode": {
    "name": "ipython",
    "version": 3
   },
   "file_extension": ".py",
   "mimetype": "text/x-python",
   "name": "python",
   "nbconvert_exporter": "python",
   "pygments_lexer": "ipython3",
   "version": "3.9.13"
  }
 },
 "nbformat": 4,
 "nbformat_minor": 5
}
